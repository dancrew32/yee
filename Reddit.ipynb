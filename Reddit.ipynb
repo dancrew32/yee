{
 "cells": [
  {
   "cell_type": "code",
   "execution_count": 1,
   "metadata": {},
   "outputs": [
    {
     "name": "stdout",
     "output_type": "stream",
     "text": [
      "\n"
     ]
    }
   ],
   "source": [
    "import os\n",
    "import praw\n",
    "reddit = praw.Reddit(\n",
    "    client_id=os.environ['REDDIT_CLIENT_ID'],\n",
    "    client_secret=os.environ['REDDIT_CLIENT_SECRET'],\n",
    "    user_agent=os.environ['REDDIT_USER_AGENT'],\n",
    "    username=os.environ['REDDIT_USERNAME'],\n",
    "    password=os.environ['REDDIT_PASSWORD'])\n",
    "print(reddit.user.me())"
   ]
  },
  {
   "cell_type": "code",
   "execution_count": 2,
   "metadata": {},
   "outputs": [],
   "source": [
    "subreddit = reddit.subreddit('aww')"
   ]
  },
  {
   "cell_type": "code",
   "execution_count": 12,
   "metadata": {},
   "outputs": [],
   "source": [
    "images = []\n",
    "for s in subreddit.top(limit=10):\n",
    "    #print(dir(s))\n",
    "    if s.is_video:\n",
    "        continue\n",
    "    if s.url.endswith('gifv'):\n",
    "        images.append(s.url)\n",
    "        continue\n",
    "    \n",
    "    if s.url.endswith('jpg'):\n",
    "        images.append(s.url)\n",
    "        continue\n",
    "        \n",
    "    if s.url.endswith('png'):\n",
    "        images.append(s.url)\n",
    "        continue\n",
    "\n",
    "    #print(submission.title, submission.id)"
   ]
  }
 ],
 "metadata": {
  "kernelspec": {
   "display_name": "Python 3",
   "language": "python",
   "name": "python3"
  },
  "language_info": {
   "codemirror_mode": {
    "name": "ipython",
    "version": 3
   },
   "file_extension": ".py",
   "mimetype": "text/x-python",
   "name": "python",
   "nbconvert_exporter": "python",
   "pygments_lexer": "ipython3",
   "version": "3.6.8"
  }
 },
 "nbformat": 4,
 "nbformat_minor": 4
}
